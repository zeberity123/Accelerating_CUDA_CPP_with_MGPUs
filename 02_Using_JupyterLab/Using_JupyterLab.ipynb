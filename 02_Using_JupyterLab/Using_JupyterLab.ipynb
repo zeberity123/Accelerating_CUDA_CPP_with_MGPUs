{
 "cells": [
  {
   "cell_type": "markdown",
   "metadata": {},
   "source": [
    "<h1 style=\"color:#65AE11;\">Using JupyterLab</h2>"
   ]
  },
  {
   "cell_type": "markdown",
   "metadata": {},
   "source": [
    "In this section, you will learn how to effectively use the interactive JupyterLab environment provided to you in this course."
   ]
  },
  {
   "cell_type": "markdown",
   "metadata": {},
   "source": [
    "<h2 style=\"color:#65AE11;\">Objectives</h2>"
   ]
  },
  {
   "cell_type": "markdown",
   "metadata": {},
   "source": [
    "By the time you complete this section you will:\n",
    "\n",
    "* Understand what JupyterLab is\n",
    "* Know how to execute code cells from a Jupyter Notebook\n",
    "* Be able to interact with the provided terminal\n",
    "* Open and edit source code files\n",
    "* Customize the UI of JupyterLab to fit your liking"
   ]
  },
  {
   "cell_type": "markdown",
   "metadata": {},
   "source": [
    "<h2 style=\"color:#65AE11;\">Instructor Presentation</h2>"
   ]
  },
  {
   "cell_type": "markdown",
   "metadata": {},
   "source": [
    "Please give your attention to the instructor."
   ]
  },
  {
   "cell_type": "markdown",
   "metadata": {},
   "source": [
    "<h2 style=\"color:#65AE11;\">Self-Paced Notes</h2>"
   ]
  },
  {
   "cell_type": "markdown",
   "metadata": {},
   "source": [
    "Click on the `...` below to view the notes from the instructor presentation. These may be helpful to you when you return to the workshop for further study at a later time."
   ]
  },
  {
   "cell_type": "markdown",
   "metadata": {
    "jupyter": {
     "source_hidden": true
    }
   },
   "source": [
    "* JupyterLab allows you to run code on a remote machine via your browser.\n",
    "* JupyterLab provides you with interactive Python cells, a file system, terminals, and text editor.\n",
    "* You can customize your JupyterLab environment by dragging and dropping tabs and windows.\n",
    "* The Command Pallete on the left-hand-side menu can be used for a variety of JupyterLab commands.\n",
    "* See the [JupyterLab Docs](https://jupyterlab.readthedocs.io/en/stable/) for much more."
   ]
  },
  {
   "cell_type": "markdown",
   "metadata": {},
   "source": [
    "<h2 style=\"color:#65AE11;\">Check for Understanding</h2>"
   ]
  },
  {
   "cell_type": "markdown",
   "metadata": {},
   "source": [
    "Please answer the following to confirm you've learned the main objectives of this section. You can display the answers for each question by clicking on the \"...\" cells below the questions."
   ]
  },
  {
   "cell_type": "markdown",
   "metadata": {},
   "source": [
    "---"
   ]
  },
  {
   "cell_type": "markdown",
   "metadata": {},
   "source": [
    "**Which of the following is true?**\n",
    "\n",
    "1. The code you run during this course will be executed on whatever computer you are using\n",
    "2. You need to provide your own GPUs to interact with this course\n",
    "3. Even though you are running a web browser on your computer, code will be executed on a cloud VM with NVIDIA GPUs"
   ]
  },
  {
   "cell_type": "markdown",
   "metadata": {},
   "source": [
    "**Answer: 3**\n",
    "\n",
    "JupyterLab allows users to interact via the browser with computational resources on machines that may not be local. In this course you will be using JupyterLab via your browser to interact with VMs in the cloud which are backed by NVIDIA GPUs."
   ]
  },
  {
   "cell_type": "markdown",
   "metadata": {},
   "source": [
    "---"
   ]
  },
  {
   "cell_type": "markdown",
   "metadata": {},
   "source": [
    "**What kinds of cells are provided in a Jupyter Notebook? (choose all that apply)**\n",
    "\n",
    "1. Python, which can also be used with `!` to execute command line commands\n",
    "2. C++\n",
    "3. Markdown"
   ]
  },
  {
   "cell_type": "markdown",
   "metadata": {},
   "source": [
    "**Answer - 1, 3**\n",
    "\n",
    "Jupyter Notebooks provide Python and Markdown cells. We use other JupyterLab features to edit, compile, and run C++ code."
   ]
  },
  {
   "cell_type": "markdown",
   "metadata": {},
   "source": [
    "---"
   ]
  },
  {
   "cell_type": "markdown",
   "metadata": {},
   "source": [
    "**How can you edit source code files via JupyterLab?**\n",
    "\n",
    "1. Open them via the \"File Viewer\" and edit as you wish\n",
    "2. Because our source code files for this course are C++, they cannot be edited"
   ]
  },
  {
   "cell_type": "markdown",
   "metadata": {},
   "source": [
    "**Answer - 1**\n",
    "\n",
    "Throughout the course you will be opening `.cu` files via the *File Browser* menu on the left hand side."
   ]
  },
  {
   "cell_type": "markdown",
   "metadata": {},
   "source": [
    "---"
   ]
  },
  {
   "cell_type": "markdown",
   "metadata": {},
   "source": [
    "**Which of the following are true? (choose all that apply)**\n",
    "\n",
    "1. JupyterLab allows you to reposition windows and tabs by dragging and dropping them\n",
    "2. There are keyboard shortcuts for many, if not most, JupyterLab commands\n",
    "3. Text editors can have their themes and more customized\n",
    "4. You can open the *Command Palette* with a keyboard shortcut and issue almost any JupyterLab command"
   ]
  },
  {
   "cell_type": "markdown",
   "metadata": {},
   "source": [
    "**Answer - 1, 2, 3, 4**\n",
    "\n",
    "And in fact, there are many other possibilities for customization in JupyterLab that are beyond the scope of this workshop."
   ]
  },
  {
   "cell_type": "markdown",
   "metadata": {},
   "source": [
    "---"
   ]
  },
  {
   "cell_type": "markdown",
   "metadata": {},
   "source": [
    "<h2 style=\"color:#65AE11;\">Next</h2>"
   ]
  },
  {
   "cell_type": "markdown",
   "metadata": {},
   "source": [
    "Now that you are familiar with the JupyterLab environment you will be working within throughout the workshop, it is time for an overview of the CUDA C++ application that you will be refactoring throughout the course to use the new techniques that you learn.\n",
    "\n",
    "Please continue to the next section: [*Application Overview*](../03_Application_Overview/Application_Overview.ipynb)."
   ]
  },
  {
   "cell_type": "markdown",
   "metadata": {},
   "source": [
    "<h2 style=\"color:#65AE11;\">Optional Further Study</h2>"
   ]
  },
  {
   "cell_type": "markdown",
   "metadata": {},
   "source": [
    "The following are for students with time and interest to do additional study on topics related to this workshop.\n",
    "\n",
    "* The [JupyterLab documentation](https://jupyterlab.readthedocs.io/en/stable/) goes into great depth about many JupyterLab uses we do not cover in this workshop.\n",
    "* [Project Jupyter](https://jupyter.org/) gives an overview of the entire Jupyter ecosystem, including [JupyterHub](https://github.com/jupyterhub/jupyterhub), a multi-user Jupyter hub which has been used in a variety of high performance computing groups."
   ]
  }
 ],
 "metadata": {
  "kernelspec": {
   "display_name": "Python 3",
   "language": "python",
   "name": "python3"
  },
  "language_info": {
   "codemirror_mode": {
    "name": "ipython",
    "version": 3
   },
   "file_extension": ".py",
   "mimetype": "text/x-python",
   "name": "python",
   "nbconvert_exporter": "python",
   "pygments_lexer": "ipython3",
   "version": "3.8.3"
  }
 },
 "nbformat": 4,
 "nbformat_minor": 4
}
