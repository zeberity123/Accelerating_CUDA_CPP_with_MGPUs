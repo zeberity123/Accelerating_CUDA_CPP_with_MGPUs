{
 "cells": [
  {
   "cell_type": "markdown",
   "metadata": {},
   "source": [
    "<h1 style=\"color:#65AE11;\">Introduction to CUDA Streams</h1>"
   ]
  },
  {
   "cell_type": "markdown",
   "metadata": {},
   "source": [
    "In this section you will get a high level introduction to concurrent CUDA Streams, their behavior, and where they can be used in CUDA applications."
   ]
  },
  {
   "cell_type": "markdown",
   "metadata": {},
   "source": [
    "<h2 style=\"color:#65AE11;\">Objectives</h2>"
   ]
  },
  {
   "cell_type": "markdown",
   "metadata": {},
   "source": [
    "By the time you complete this section you will:\n",
    "\n",
    "* Learn what a CUDA Stream is\n",
    "* Know the rules that govern stream behavior\n",
    "* Know the behavior of the special default stream\n",
    "* Understand that CUDA Streams can be used for memory transfers and kernel launches"
   ]
  },
  {
   "cell_type": "markdown",
   "metadata": {},
   "source": [
    "<h2 style=\"color:#65AE11;\">Instructor Presentation</h2>"
   ]
  },
  {
   "cell_type": "markdown",
   "metadata": {},
   "source": [
    "Please give your attention to the instructor while they present the slides.\n",
    "\n",
    "Run the following cell to load the slide deck for this section. If you wish, you can click on \"Start Slide Show\" once the slides appear to view them full-screen."
   ]
  },
  {
   "cell_type": "code",
   "execution_count": 1,
   "metadata": {},
   "outputs": [
    {
     "data": {
      "text/html": [
       "\n",
       "        <iframe\n",
       "            width=\"900\"\n",
       "            height=\"640\"\n",
       "            src=\"https://view.officeapps.live.com/op/view.aspx?src=https://developer.download.nvidia.com/training/courses/C-AC-04-V1/task1/05_cuda_streams-04.pptx\"\n",
       "            frameborder=\"0\"\n",
       "            allowfullscreen\n",
       "        ></iframe>\n",
       "        "
      ],
      "text/plain": [
       "<IPython.lib.display.IFrame at 0x7f4214205ca0>"
      ]
     },
     "execution_count": 1,
     "metadata": {},
     "output_type": "execute_result"
    }
   ],
   "source": [
    "from IPython.display import IFrame\n",
    "IFrame(\"https://view.officeapps.live.com/op/view.aspx?src=https://developer.download.nvidia.com/training/courses/C-AC-04-V1/task1/05_cuda_streams-04.pptx\", 900, 640)"
   ]
  },
  {
   "cell_type": "markdown",
   "metadata": {},
   "source": [
    "<h2 style=\"color:#65AE11;\">Check for Understanding</h2>"
   ]
  },
  {
   "cell_type": "markdown",
   "metadata": {},
   "source": [
    "Please answer the following to confirm you've learned the main objectives of this section. You can display the answers for each question by clicking on the \"...\" cells below the questions."
   ]
  },
  {
   "cell_type": "markdown",
   "metadata": {},
   "source": [
    "---"
   ]
  },
  {
   "cell_type": "markdown",
   "metadata": {},
   "source": [
    "**Which best describes a CUDA stream?**\n",
    "\n",
    "1. A data buffer that can be read from many parallel threads\n",
    "2. A way to run any operation on the GPU concurrently\n",
    "3. The CUDA mechanism utilized to coordinate instructions from multiple CPUs\n",
    "4. A series of operations executed in issue-order"
   ]
  },
  {
   "cell_type": "markdown",
   "metadata": {},
   "source": [
    "**Answer: 4**"
   ]
  },
  {
   "cell_type": "markdown",
   "metadata": {},
   "source": [
    "---"
   ]
  },
  {
   "cell_type": "markdown",
   "metadata": {},
   "source": [
    "**What are the 2 rules that govern non-default stream behavior?**\n",
    "\n",
    "1. Operations issued in the same non-default stream will execute in parallel\n",
    "2. Operations in the same stream will execute in issue order\n",
    "3. No ordering is guaranteed between operations issued in different non-default streams\n",
    "4. Operations in different non-default streams will always operate in parallel"
   ]
  },
  {
   "cell_type": "markdown",
   "metadata": {},
   "source": [
    "**Answer: 2, 3**"
   ]
  },
  {
   "cell_type": "markdown",
   "metadata": {},
   "source": [
    "---"
   ]
  },
  {
   "cell_type": "markdown",
   "metadata": {},
   "source": [
    "**Which of the following is true about the default stream? Choose all that apply.**\n",
    "\n",
    "1. Operations in the default stream cannot execute at the same time as operations in any non-default stream\n",
    "2. The default stream can be used to overlap memory copy and GPU compute\n",
    "3. Kernel launches and many other CUDA runtime operations are run by default in the default stream\n",
    "4. The default stream is also called \"stream 0\" or the \"NULL stream\""
   ]
  },
  {
   "cell_type": "markdown",
   "metadata": {},
   "source": [
    "**Answer: 1, 3, 4**"
   ]
  },
  {
   "cell_type": "markdown",
   "metadata": {},
   "source": [
    "---"
   ]
  },
  {
   "cell_type": "markdown",
   "metadata": {},
   "source": [
    "**Which of the following can be executed in a non-default stream? Use the [CUDA Runtime API docs](https://docs.nvidia.com/cuda/cuda-runtime-api/group__CUDART__MEMORY.html) for reference. Choose all that apply.**\n",
    "\n",
    "1. cudaMalloc\n",
    "2. cudaMemcpy\n",
    "3. cudaMemcpyAsync\n",
    "4. Kernel launches"
   ]
  },
  {
   "cell_type": "markdown",
   "metadata": {},
   "source": [
    "**Answer: 3, 4**\n",
    "\n",
    "Look for arguments of the type `cudaStream_t` to see which functions expect a stream argument. Kernel launches are also always performed in a stream."
   ]
  },
  {
   "cell_type": "markdown",
   "metadata": {},
   "source": [
    "---"
   ]
  },
  {
   "cell_type": "markdown",
   "metadata": {},
   "source": [
    "**Kernel launches always occur in a stream.**\n",
    "\n",
    "1. True\n",
    "2. False"
   ]
  },
  {
   "cell_type": "markdown",
   "metadata": {},
   "source": [
    "**Answer: 1**\n",
    "\n",
    "If a stream argument is not specified, kernel launches will occur in the default stream."
   ]
  },
  {
   "cell_type": "markdown",
   "metadata": {},
   "source": [
    "---"
   ]
  },
  {
   "cell_type": "markdown",
   "metadata": {},
   "source": [
    "**How do programmers define which stream they would like a kernel to be launched in?**\n",
    "\n",
    "1. By using the 3rd argument to the kernel's launch configuration\n",
    "2. By using the 4th argument to the kernel's launch configuration\n",
    "3. They cannot. Kernel launches always occur in the default stream"
   ]
  },
  {
   "cell_type": "markdown",
   "metadata": {},
   "source": [
    "**Answer: 2**"
   ]
  },
  {
   "cell_type": "markdown",
   "metadata": {},
   "source": [
    "---"
   ]
  },
  {
   "cell_type": "markdown",
   "metadata": {},
   "source": [
    "<h2 style=\"color:#65AE11;\">Next</h2>"
   ]
  },
  {
   "cell_type": "markdown",
   "metadata": {},
   "source": [
    "Now that you have a high-level understanding of CUDA Stream behavior, you will, in the next 2 sections, learn about the syntax for launching kernels and executing certain CUDA Runtime functions in non-default streams.\n",
    "\n",
    "Please continue to the next section: [*Kernels in Streams*](../06_Kernels_in_Streams/Kernels_in_Streams.ipynb)."
   ]
  },
  {
   "cell_type": "markdown",
   "metadata": {},
   "source": [
    "<h2 style=\"color:#65AE11;\">Optional Further Study</h2>"
   ]
  },
  {
   "cell_type": "markdown",
   "metadata": {},
   "source": [
    "The following are for students with time and interest to do additional study on topics related to this workshop.\n",
    "\n",
    "* [The CUDA Programming Guide](https://docs.nvidia.com/cuda/cuda-c-programming-guide/index.html#asynchronous-concurrent-execution) gives extensive coverage of asynchronous concurrent code execution, including many additional details regarding the use of CUDA streams.\n",
    "* CUDA 10 introduced [CUDA Graphs](https://developer.nvidia.com/blog/cuda-graphs/) which is some scenarios could be considered an alternative to CUDA streams. As discussed in [*CUDA 10 Features Revealed*](https://developer.nvidia.com/blog/cuda-10-features-revealed/), \"a graph consists of a series of operations, such as memory copies and kernel launches, connected by dependencies and defined separately from its execution. Graphs enable a define-once-run-repeatedly execution flow.\""
   ]
  }
 ],
 "metadata": {
  "kernelspec": {
   "display_name": "Python 3",
   "language": "python",
   "name": "python3"
  },
  "language_info": {
   "codemirror_mode": {
    "name": "ipython",
    "version": 3
   },
   "file_extension": ".py",
   "mimetype": "text/x-python",
   "name": "python",
   "nbconvert_exporter": "python",
   "pygments_lexer": "ipython3",
   "version": "3.8.3"
  }
 },
 "nbformat": 4,
 "nbformat_minor": 4
}
