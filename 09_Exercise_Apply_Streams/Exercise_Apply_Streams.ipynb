{
 "cells": [
  {
   "cell_type": "markdown",
   "metadata": {},
   "source": [
    "<h1 style=\"color:#65AE11;\">Exercise: Apply Copy/Compute Overlap</h1>"
   ]
  },
  {
   "cell_type": "markdown",
   "metadata": {},
   "source": [
    "In this section you will perform copy/compute overlap in the cipher application."
   ]
  },
  {
   "cell_type": "markdown",
   "metadata": {},
   "source": [
    "<h2 style=\"color:#65AE11;\">Objectives</h2>"
   ]
  },
  {
   "cell_type": "markdown",
   "metadata": {},
   "source": [
    "By the time you complete this section you will:\n",
    "\n",
    "* Be able to perform copy/compute overlap using CUDA Streams in a CUDA C++ application\n",
    "* Observe copy/compute overlap in the Nsight Systems timeline"
   ]
  },
  {
   "cell_type": "markdown",
   "metadata": {},
   "source": [
    "<h2 style=\"color:#65AE11;\">Exercise Instructions</h2>"
   ]
  },
  {
   "cell_type": "markdown",
   "metadata": {},
   "source": [
    "Apply the techniques from the previous sections to perform copy/compute overlap in [streams.cu](streams_cipher/streams.cu).\n",
    "\n",
    "Use the terminal to run `make streams` to compile the program, and then `./streams` to run it. You will see the timing outputs and check for correctness. See the [Makefile](streams_cipher/Makefile) for details.\n",
    "\n",
    "After a successful refactor, adjust the number of streams (and therefore the size of memory chunks) and rerun to try to find the optimal number of streams.\n",
    "\n",
    "**As a goal try to get the total amount of time (including memory transfers) on the GPU below 100ms, or even below 75ms.**\n",
    "\n",
    "Use the terminal to run `make profile` to generate a report file that will be named `streams-report.qdrep`, and which you can open in Nsight Systems. See the [Makefile](streams_cipher/Makefile) for details.\n",
    "\n",
    "The following screenshot, shows a profiler view of almost all host-to-device memory transfer (green) and device-to-host memory transfer (violet) overlapping with GPU compute (blue):"
   ]
  },
  {
   "cell_type": "markdown",
   "metadata": {},
   "source": [
    "![streams solution](images/streams_solution.png)"
   ]
  },
  {
   "cell_type": "markdown",
   "metadata": {},
   "source": [
    "<h2 style=\"color:#65AE11;\">Exercise Hints</h2>"
   ]
  },
  {
   "cell_type": "markdown",
   "metadata": {},
   "source": [
    "If you would like, expand the following hints to guide your work:"
   ]
  },
  {
   "cell_type": "markdown",
   "metadata": {
    "jupyter": {
     "source_hidden": true
    }
   },
   "source": [
    "* All your work should be within the `main` function\n",
    "* Define a number of streams\n",
    "* Create the number of streams you defined and store them in an array\n",
    "* As you work, edit the use of the timer instances, including their message strings, to reflect changes you make to the application\n",
    "* Using the number of entries and the number of streams, define a chunk size for each stream's work. Remember to use the round-up division helper function `sdiv` for the reasons discussed in the previous section\n",
    "* For each stream you have created:\n",
    "  * Create indices for it to correctly access its chunk of data from within the global data\n",
    "  * Asynchronously copy its chunk of data to the device\n",
    "  * Perform the `decryptGPU` computations for its chunk of data\n",
    "  * Asynchronously copy its chunk of data back to the host\n",
    "  * Synchronize each stream before continuing on to check results on the CPU\n",
    "* `make clean` will delete all binaries and report files\n",
    "* You can edit the [*Makefile*](streams_cipher/Makefile) as you wish, for example, to change the name of generated binaries or report files. You can of course also enter the commands found in the *Makefile* directly into the terminal\n",
    "* If you have time, play around with different numbers of streams, aiming to reduce the total time the application spends on the GPU"
   ]
  },
  {
   "cell_type": "markdown",
   "metadata": {},
   "source": [
    "<h2 style=\"color:#65AE11;\">Exercise Solution</h2>"
   ]
  },
  {
   "cell_type": "markdown",
   "metadata": {},
   "source": [
    "After you complete your work, or if you get stuck, refer to [the solution](streams_cipher/streams_solution.cu). If you wish, you can compile the solution with `make streams_solution`, and/or generate a report file for viewing in Nsight Systems with `make profile_solution`."
   ]
  },
  {
   "cell_type": "markdown",
   "metadata": {},
   "source": [
    "<h2 style=\"color:#65AE11;\">Next</h2>"
   ]
  },
  {
   "cell_type": "markdown",
   "metadata": {},
   "source": [
    "Now that you have demonstrated the ability to perform copy/compute overlap, we will shift our attention for the next few sections to utilizing multiple GPUs on the same node before, at the end of the course, combining the use of multiple GPUs with copy/compute overlap.\n",
    "\n",
    "Please continue to the next section: [*Multiple GPUs*](../10_Multiple_GPUs/Multiple_GPUs.ipynb)."
   ]
  }
 ],
 "metadata": {
  "kernelspec": {
   "display_name": "Python 3",
   "language": "python",
   "name": "python3"
  },
  "language_info": {
   "codemirror_mode": {
    "name": "ipython",
    "version": 3
   },
   "file_extension": ".py",
   "mimetype": "text/x-python",
   "name": "python",
   "nbconvert_exporter": "python",
   "pygments_lexer": "ipython3",
   "version": "3.8.3"
  }
 },
 "nbformat": 4,
 "nbformat_minor": 4
}
