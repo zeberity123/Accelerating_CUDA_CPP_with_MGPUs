{
 "cells": [
  {
   "cell_type": "markdown",
   "metadata": {},
   "source": [
    "<h1 style=\"color:#65AE11;\">Application Overview: Symmetric Iterative Feistel Cipher</h2>"
   ]
  },
  {
   "cell_type": "markdown",
   "metadata": {},
   "source": [
    "In this section you will overview the Symmetric Iterative Feistel Cipher application that you will be refactoring with the techniques you learn in the course. This application is already GPU-accelerated."
   ]
  },
  {
   "cell_type": "markdown",
   "metadata": {},
   "source": [
    "<h2 style=\"color:#65AE11;\">Objectives</h2>"
   ]
  },
  {
   "cell_type": "markdown",
   "metadata": {},
   "source": [
    "By the time you complete this section you will:\n",
    "\n",
    "* Be familiar with the CUDA C++ cipher application that you will be working on throughout the course\n",
    "* Know which parts of the application will require your attention, and which you can largely ignore\n",
    "* Be able to compile and run the application\n",
    "* Obtain a performance baseline for the application"
   ]
  },
  {
   "cell_type": "markdown",
   "metadata": {},
   "source": [
    "<h2 style=\"color:#65AE11;\">Instructor Presentation</h2>"
   ]
  },
  {
   "cell_type": "markdown",
   "metadata": {},
   "source": [
    "Please give your attention to the instructor."
   ]
  },
  {
   "cell_type": "markdown",
   "metadata": {},
   "source": [
    "<h2 style=\"color:#65AE11;\">Self-Paced Notes</h2>"
   ]
  },
  {
   "cell_type": "markdown",
   "metadata": {},
   "source": [
    "Click on the `...` below to view the notes from the instructor presentation. These may be helpful to you when you return to the workshop for further study at a later time."
   ]
  },
  {
   "cell_type": "markdown",
   "metadata": {
    "jupyter": {
     "source_hidden": true
    }
   },
   "source": [
    "* [encryption.cuh](baseline_cipher/encryption.cuh) contains the functions for performing the work of encryption and decryption. The amount of work for both `permute64` and `unpermute64` can be controlled via `num_iters`.\n",
    "* [helpers.cuh](baseline_cipher/helpers.cuh) contains code for error handling, as well as the handy `Timer` class used throughout this course.\n",
    "* [baseline.cu](baseline_cipher/baseline.cu) contains code to encrypt on the CPU using multiple CPU cores, transfer data to the GPU, decrypt on the GPU, transfer back to the CPU, and check for correctness on the CPU.\n",
    "* The `Timer` class is used throughout to give time durations for various portions of the application.\n",
    "* All though it is not required, `make` can be used to compile code and generate report files. See [Makefile](baseline_cipher/Makefile) for details.\n",
    "* See comments throughout source code for additional details."
   ]
  },
  {
   "cell_type": "markdown",
   "metadata": {},
   "source": [
    "<h2 style=\"color:#65AE11;\">Exercise: Compile and Run the Baseline Application</h2>"
   ]
  },
  {
   "cell_type": "markdown",
   "metadata": {},
   "source": [
    "Just as you saw the instructor do, use a terminal to compile and run the baseline application."
   ]
  },
  {
   "cell_type": "markdown",
   "metadata": {},
   "source": [
    "<h2 style=\"color:#65AE11;\">Check for Understanding</h2>"
   ]
  },
  {
   "cell_type": "markdown",
   "metadata": {},
   "source": [
    "Please answer the following to confirm you've learned the main objectives of this section. You can display the answers for each question by clicking on the \"...\" cells below the questions."
   ]
  },
  {
   "cell_type": "markdown",
   "metadata": {},
   "source": [
    "---"
   ]
  },
  {
   "cell_type": "markdown",
   "metadata": {},
   "source": [
    "**In order to do your work in the course, you need to clearly understand what the `hash`, `permute64`, and `unpermute64` functions in encryption.cu do.**\n",
    "\n",
    "1. True\n",
    "2. False"
   ]
  },
  {
   "cell_type": "markdown",
   "metadata": {
    "jupyter": {
     "source_hidden": true
    }
   },
   "source": [
    "**Answer: 2.**\n",
    "\n",
    "You don't need to understand how these functions work to do your work today."
   ]
  },
  {
   "cell_type": "markdown",
   "metadata": {},
   "source": [
    "---"
   ]
  },
  {
   "cell_type": "markdown",
   "metadata": {},
   "source": [
    "**Which of the following are able to run on the GPU? Choose all that apply.**\n",
    "\n",
    "1. permute64\n",
    "2. unpermute64\n",
    "3. encrypt_cpu\n",
    "4. decrypt_gpu\n",
    "5. check_result_cpu"
   ]
  },
  {
   "cell_type": "markdown",
   "metadata": {
    "jupyter": {
     "source_hidden": true
    }
   },
   "source": [
    "**Answer: 1, 2, 4.**"
   ]
  },
  {
   "cell_type": "markdown",
   "metadata": {},
   "source": [
    "---"
   ]
  },
  {
   "cell_type": "markdown",
   "metadata": {},
   "source": [
    "**Which operations are included in the `Timer` class instance `overall`? Choose all that apply.**\n",
    "\n",
    "1. Memory allocations\n",
    "2. Data encryption on the CPU\n",
    "2. Host to device memory transfers\n",
    "3. Data decryption on the GPU\n",
    "4. Device to host transfers\n",
    "5. Result checking on the CPU"
   ]
  },
  {
   "cell_type": "markdown",
   "metadata": {
    "jupyter": {
     "source_hidden": true
    }
   },
   "source": [
    "**Answer: 3, 4, 5.**"
   ]
  },
  {
   "cell_type": "markdown",
   "metadata": {},
   "source": [
    "---"
   ]
  },
  {
   "cell_type": "markdown",
   "metadata": {},
   "source": [
    "**This baseline application is overlapping memory transfers with computations.**\n",
    "\n",
    "1. True\n",
    "2. False"
   ]
  },
  {
   "cell_type": "markdown",
   "metadata": {
    "jupyter": {
     "source_hidden": true
    }
   },
   "source": [
    "**Answer: 2.**"
   ]
  },
  {
   "cell_type": "markdown",
   "metadata": {},
   "source": [
    "---"
   ]
  },
  {
   "cell_type": "markdown",
   "metadata": {},
   "source": [
    "**This baseline application is using multiple CPU cores.**\n",
    "\n",
    "1. True\n",
    "2. False"
   ]
  },
  {
   "cell_type": "markdown",
   "metadata": {
    "jupyter": {
     "source_hidden": true
    }
   },
   "source": [
    "**Answer: 1.**"
   ]
  },
  {
   "cell_type": "markdown",
   "metadata": {},
   "source": [
    "---"
   ]
  },
  {
   "cell_type": "markdown",
   "metadata": {},
   "source": [
    "**This baseline application is using multiple GPUs.**\n",
    "\n",
    "1. True\n",
    "2. False"
   ]
  },
  {
   "cell_type": "markdown",
   "metadata": {
    "jupyter": {
     "source_hidden": true
    }
   },
   "source": [
    "**Answer: 2.**"
   ]
  },
  {
   "cell_type": "markdown",
   "metadata": {},
   "source": [
    "---"
   ]
  },
  {
   "cell_type": "markdown",
   "metadata": {},
   "source": [
    "<h2 style=\"color:#65AE11;\">Next</h2>"
   ]
  },
  {
   "cell_type": "markdown",
   "metadata": {},
   "source": [
    "Now that you are familiar with the baseline cipher application, and can compile, run, and benchmark it, you are going to learn to use the Nsight Systems visual profiler to create a visual timeline of it.\n",
    "\n",
    "Please continue to the next section: [*Nsight Systems Setup*](../04_Nsight_Systems_Setup/Nsight_Systems_Setup.ipynb)."
   ]
  },
  {
   "cell_type": "markdown",
   "metadata": {},
   "source": [
    "<h2 style=\"color:#65AE11;\">Optional Further Study</h2>"
   ]
  },
  {
   "cell_type": "markdown",
   "metadata": {},
   "source": [
    "The following are for students with time and interest to do additional study on topics related to this workshop.\n",
    "\n",
    "* [Wikipedia](https://en.wikipedia.org/wiki/Feistel_cipher) goes deeper into the history, construction, and use of the Feistel cipher we use throughout this workshop.\n",
    "* [openmp.org](https://www.openmp.org/resources/) has many resources to learn more about the OpenMP API specification for parallel programming.\n",
    "* You can learn much more about how to use Makefiles in [this tutorial](https://makefiletutorial.com/).\n",
    "* Mark Harris wrote a [CUDA Developer Zone blog post](https://developer.nvidia.com/blog/cuda-pro-tip-write-flexible-kernels-grid-stride-loops/) about using grid-stride loops for flexible CUDA kernels.\n",
    "* This [geeksforgeeks article](https://www.geeksforgeeks.org/c-classes-and-objects/) gives a good crash-course in the use of C++ classes, similar to the `Timer` class used in source code throughout this workshop."
   ]
  }
 ],
 "metadata": {
  "kernelspec": {
   "display_name": "Python 3",
   "language": "python",
   "name": "python3"
  },
  "language_info": {
   "codemirror_mode": {
    "name": "ipython",
    "version": 3
   },
   "file_extension": ".py",
   "mimetype": "text/x-python",
   "name": "python",
   "nbconvert_exporter": "python",
   "pygments_lexer": "ipython3",
   "version": "3.8.3"
  }
 },
 "nbformat": 4,
 "nbformat_minor": 4
}
