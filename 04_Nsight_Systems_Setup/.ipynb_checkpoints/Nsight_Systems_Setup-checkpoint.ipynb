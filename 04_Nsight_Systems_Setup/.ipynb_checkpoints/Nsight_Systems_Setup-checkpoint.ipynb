{
 "cells": [
  {
   "cell_type": "markdown",
   "metadata": {},
   "source": [
    "<h1 style=\"color:#65AE11;\">Nsight Systems Setup</h2>"
   ]
  },
  {
   "cell_type": "markdown",
   "metadata": {},
   "source": [
    "In this section you will learn how to use Nsight Systems from within this JupyterLab environment, visually profiling the baseline cypher application."
   ]
  },
  {
   "cell_type": "markdown",
   "metadata": {},
   "source": [
    "<h2 style=\"color:#65AE11;\">Objectives</h2>"
   ]
  },
  {
   "cell_type": "markdown",
   "metadata": {},
   "source": [
    "By the time you complete this section you will:\n",
    "\n",
    "* Be able to generate a report file that can be consumed by Nsight Systems\n",
    "* Have a running Nsight Systems instance inside your JupyterLab environment\n",
    "* Visually profile the timeline for the baseline cipher application\n",
    "* Observe visually that the baseline application currently uses one GPU and does not have any copy/compute overlap"
   ]
  },
  {
   "cell_type": "markdown",
   "metadata": {},
   "source": [
    "<h2 style=\"color:#65AE11;\">Instructor Presentation</h2>"
   ]
  },
  {
   "cell_type": "markdown",
   "metadata": {},
   "source": [
    "Execute the following cell to generate the URL for the remote desktop, which you should copy and paste into a new browser tab. Then, please give your attention to the instructor."
   ]
  },
  {
   "cell_type": "code",
   "execution_count": null,
   "metadata": {},
   "outputs": [],
   "source": [
    " %%js\n",
    "var url = window.location.hostname + '/nsight/';\n",
    "element.append(url)"
   ]
  },
  {
   "cell_type": "markdown",
   "metadata": {},
   "source": [
    "<h2 style=\"color:#65AE11;\">Self-Paced Notes</h2>"
   ]
  },
  {
   "cell_type": "markdown",
   "metadata": {},
   "source": [
    "Click on the `...` below to view the notes from the instructor presentation. These may be helpful to you when you return to the workshop for further study at a later time."
   ]
  },
  {
   "cell_type": "markdown",
   "metadata": {
    "jupyter": {
     "source_hidden": true
    }
   },
   "source": [
    "* Execute the `%%js` cell above to generate the URL for the remote desktop, which you should copy and paste into a new browser tab.\n",
    "* When prompted, the password is `nvidia`\n",
    "* Click the application finder on the desktop that appears (at the bottom, looks like a magnifying glass), type nsight, and open “Nsight Systems”\n",
    "* Click “Open -> root -> Desktop -> reports -> 04_Nsight_Systems_Setup/baseline_cipher/baseline-report.qdrep”\n",
    "* Close the warning/error that shows up, it can be disregarded\n",
    "* You can close the left-side menu and collapse the bottom menu to make space for the timeline\n",
    "* Open the “CUDA” portion of the timeline\n",
    "* You can Zoom into parts of the timeline by drag-clicking an area on the timeline and then choosing \"Zoom\" when prompted.\n"
   ]
  },
  {
   "cell_type": "markdown",
   "metadata": {},
   "source": [
    "<h2 style=\"color:#65AE11;\">Visually Profile the Baseline Application</h2>"
   ]
  },
  {
   "cell_type": "markdown",
   "metadata": {},
   "source": [
    "Just as you saw the instructor do, use a terminal to create a report for the baseline cipher application, and then, open the remote desktop, Nsight Systems, and open the report file. Explore interacting with the timeline. By the time you are finished you should have a view of the timeline that looks roughly like this:"
   ]
  },
  {
   "cell_type": "markdown",
   "metadata": {},
   "source": [
    "![baseline timeline](./images/baseline_timeline.png)"
   ]
  },
  {
   "cell_type": "markdown",
   "metadata": {},
   "source": [
    "<h2 style=\"color:#65AE11;\">Check for Understanding</h2>"
   ]
  },
  {
   "cell_type": "markdown",
   "metadata": {},
   "source": [
    "Please answer the following to confirm you've learned the main objectives of this section. You can display the answers for each question by clicking on the \"...\" cells below the questions."
   ]
  },
  {
   "cell_type": "markdown",
   "metadata": {},
   "source": [
    "---"
   ]
  },
  {
   "cell_type": "markdown",
   "metadata": {},
   "source": [
    "**How many GPUs were used for the baseline cipher application?**\n",
    "\n",
    "1. One\n",
    "2. Two\n",
    "3. Three\n",
    "4. Four"
   ]
  },
  {
   "cell_type": "markdown",
   "metadata": {
    "jupyter": {
     "source_hidden": true
    }
   },
   "source": [
    "**Answer: 1.**"
   ]
  },
  {
   "cell_type": "markdown",
   "metadata": {},
   "source": [
    "---"
   ]
  },
  {
   "cell_type": "markdown",
   "metadata": {},
   "source": [
    "**Which of the following do you see in the timeline? Choose all that apply.**\n",
    "\n",
    "1. Host to device memory copies\n",
    "2. Compute on the GPU(s)\n",
    "3. Device to host memory copies"
   ]
  },
  {
   "cell_type": "markdown",
   "metadata": {
    "jupyter": {
     "source_hidden": true
    }
   },
   "source": [
    "**Answer: 1, 2, 3.**"
   ]
  },
  {
   "cell_type": "markdown",
   "metadata": {},
   "source": [
    "---"
   ]
  },
  {
   "cell_type": "markdown",
   "metadata": {},
   "source": [
    "**How much copy/compute overlap do you observe in the timeline?**\n",
    "\n",
    "1. None\n",
    "2. Some\n",
    "3. Total"
   ]
  },
  {
   "cell_type": "markdown",
   "metadata": {
    "jupyter": {
     "source_hidden": true
    }
   },
   "source": [
    "**Answer: 1.**"
   ]
  },
  {
   "cell_type": "markdown",
   "metadata": {},
   "source": [
    "---"
   ]
  },
  {
   "cell_type": "markdown",
   "metadata": {},
   "source": [
    "<h2 style=\"color:#65AE11;\">Next</h2>"
   ]
  },
  {
   "cell_type": "markdown",
   "metadata": {},
   "source": [
    "Now that you are familiar with the basline application, can run it and visually profile it, we will turn our attention to using concurrent CUDA Streams, the mechanism by which we will be able to peform copy/compute overlap. After you learn about CUDA streams at a high level, you will be coding them and viewing how they affect application timelines in Nsight Systems.\n",
    "\n",
    "Please continue to the next section: [*CUDA Streams*](../05_CUDA_Streams/CUDA_Streams.ipynb)."
   ]
  },
  {
   "cell_type": "markdown",
   "metadata": {},
   "source": [
    "<h2 style=\"color:#65AE11;\">Optional Further Study</h2>"
   ]
  },
  {
   "cell_type": "markdown",
   "metadata": {},
   "source": [
    "The following are for students with time and interest to do additional study on topics related to this workshop.\n",
    "\n",
    "* [NVIDIA Developer Zone](https://developer.nvidia.com/nsight-systems) and the [Nsight Systems docs](https://docs.nvidia.com/nsight-systems/index.html) give extensive coverage to Nsight Systems, which we are using primarily in this workshop for its visual timeline.\n",
    "* [Nsight Compute](https://developer.nvidia.com/nsight-compute) is an additional part of the Nsight tooling suite, and is a powerful kernel profiler for CUDA applications.\n",
    "* [GTC On Demand](https://www.nvidia.com/en-us/gtc/on-demand/) makes available [many presentations](https://www.nvidia.com/en-us/gtc/on-demand/?search=nsight) highlighting the effective use of Nsight tools."
   ]
  }
 ],
 "metadata": {
  "kernelspec": {
   "display_name": "Python 3",
   "language": "python",
   "name": "python3"
  },
  "language_info": {
   "codemirror_mode": {
    "name": "ipython",
    "version": 3
   },
   "file_extension": ".py",
   "mimetype": "text/x-python",
   "name": "python",
   "nbconvert_exporter": "python",
   "pygments_lexer": "ipython3",
   "version": "3.8.3"
  }
 },
 "nbformat": 4,
 "nbformat_minor": 4
}
