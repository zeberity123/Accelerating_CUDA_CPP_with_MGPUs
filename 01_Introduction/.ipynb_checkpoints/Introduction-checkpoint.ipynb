{
 "cells": [
  {
   "cell_type": "markdown",
   "metadata": {},
   "source": [
    "<h1 style=\"color:#65AE11;\">Single Node Multi-GPU Programming for CUDA C++ Applications</h1>"
   ]
  },
  {
   "cell_type": "markdown",
   "metadata": {},
   "source": [
    "In this section you will learn more about the high-level goals of this course, and will become familiar with the course structure."
   ]
  },
  {
   "cell_type": "markdown",
   "metadata": {},
   "source": [
    "<h2 style=\"color:#65AE11;\">Objectives</h2>"
   ]
  },
  {
   "cell_type": "markdown",
   "metadata": {},
   "source": [
    "By the time you complete this section you will:\n",
    "\n",
    "* Undertand the high level goals of the course\n",
    "* Be familiar with the structure and progression of the course"
   ]
  },
  {
   "cell_type": "markdown",
   "metadata": {},
   "source": [
    "<h2 style=\"color:#65AE11;\">Instructor Presentation</h2>"
   ]
  },
  {
   "cell_type": "markdown",
   "metadata": {},
   "source": [
    "Please give your attention to the instructor while they present the slides.\n",
    "\n",
    "Run the following cell to load the slide deck for this section. If you wish, you can click on \"Start Slide Show\" once the slides appear to view them full-screen."
   ]
  },
  {
   "cell_type": "code",
   "execution_count": null,
   "metadata": {},
   "outputs": [],
   "source": [
    "from IPython.display import IFrame\n",
    "IFrame(\"https://view.officeapps.live.com/op/view.aspx?src=https://developer.download.nvidia.com/training/courses/C-AC-04-V1/task1/01_intro-03.pptx\", 900, 640)"
   ]
  },
  {
   "cell_type": "markdown",
   "metadata": {},
   "source": [
    "<h2 style=\"color:#65AE11;\">Check for Understanding</h2>"
   ]
  },
  {
   "cell_type": "markdown",
   "metadata": {},
   "source": [
    "Please answer the following to confirm you've learned the main objectives of this section. You can display the answers for each question by clicking on the \"...\" cells below the questions."
   ]
  },
  {
   "cell_type": "markdown",
   "metadata": {},
   "source": [
    "---"
   ]
  },
  {
   "cell_type": "markdown",
   "metadata": {},
   "source": [
    "**What is the main objective of this course?**\n",
    "\n",
    "1. Increase performance for single-node CUDA C/C++ applications using copy/compute overlap\n",
    "2. Increase performance for single-node CUDA C/C++ applications using multiple GPUs\n",
    "3. Increase performance for multi-node CUDA C/C++ applications using copy/compute overlap\n",
    "4. Increase performance for multi-node CUDA C/C++ applications using multiple GPUs\n",
    "5. Both 1 and 2\n",
    "6. Both 3 and 4"
   ]
  },
  {
   "cell_type": "markdown",
   "metadata": {
    "jupyter": {
     "source_hidden": true
    }
   },
   "source": [
    "**Answer: 5**\n",
    "\n",
    "You will be learning how to use multiple GPUs with a single node and perform copy/compute overlap to increase performance for CUDA C++ applications."
   ]
  },
  {
   "cell_type": "markdown",
   "metadata": {},
   "source": [
    "---"
   ]
  },
  {
   "cell_type": "markdown",
   "metadata": {},
   "source": [
    "<h2 style=\"color:#65AE11;\">Next</h2>"
   ]
  },
  {
   "cell_type": "markdown",
   "metadata": {},
   "source": [
    "Now that you are familiar with the high-level goals of this course, you will be spending some time in the next section getting familiar with this interactive JupyterLab environment.\n",
    "\n",
    "Please continue to the next section: [*Using JupyterLab*](../02_Using_JupyterLab/Using_JupyterLab.ipynb)."
   ]
  }
 ],
 "metadata": {
  "kernelspec": {
   "display_name": "Python 3",
   "language": "python",
   "name": "python3"
  },
  "language_info": {
   "codemirror_mode": {
    "name": "ipython",
    "version": 3
   },
   "file_extension": ".py",
   "mimetype": "text/x-python",
   "name": "python",
   "nbconvert_exporter": "python",
   "pygments_lexer": "ipython3",
   "version": "3.8.3"
  }
 },
 "nbformat": 4,
 "nbformat_minor": 4
}
